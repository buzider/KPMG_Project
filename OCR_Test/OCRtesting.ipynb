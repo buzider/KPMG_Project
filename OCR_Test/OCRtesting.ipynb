{
 "cells": [
  {
   "cell_type": "code",
   "execution_count": 7,
   "metadata": {},
   "outputs": [],
   "source": [
    "from xbrl import XBRLParser, GAAP, GAAPSerializer\n",
    "from bs4 import BeautifulSoup\n",
    "from PIL import Image\n",
    "import pytesseract"
   ]
  },
  {
   "cell_type": "code",
   "execution_count": 8,
   "metadata": {},
   "outputs": [
    {
     "name": "stdout",
     "output_type": "stream",
     "text": [
      "<function get_tesseract_version at 0x000002AB44FA0158>\n"
     ]
    }
   ],
   "source": [
    "\n",
    "pytesseract.get_tesseract_version\n",
    "print(pytesseract.get_tesseract_version)\n"
   ]
  },
  {
   "cell_type": "code",
   "execution_count": 9,
   "metadata": {},
   "outputs": [
    {
     "data": {
      "text/plain": [
       "'0.3.9'"
      ]
     },
     "execution_count": 9,
     "metadata": {},
     "output_type": "execute_result"
    }
   ],
   "source": [
    "import pkg_resources\n",
    "pkg_resources.working_set.by_key['pytesseract'].version"
   ]
  },
  {
   "cell_type": "code",
   "execution_count": 12,
   "metadata": {},
   "outputs": [
    {
     "name": "stdout",
     "output_type": "stream",
     "text": [
      "1100\n",
      "1110\n",
      "1136\n",
      "1150\n",
      "1170\n",
      "1200\n",
      "130X\n",
      "1410\n",
      "1470\n",
      "1XX\n",
      "\n",
      "1517\n",
      "1535\n",
      "\n",
      "現金 及 約 當 現金\n",
      "\n",
      "透過 損益 按 公 多 價 值 衡量 之 金 融資 產 - 流動\n",
      "按 攤 銷 後 成 本 衡量 之 金 融資 產 - 流動\n",
      "\n",
      "應 收 栗 據 淨 額\n",
      "\n",
      "應 收 帳 款 淨 額\n",
      "\n",
      "其 他 應 收 款\n",
      "\n",
      "存貨\n",
      "\n",
      "預付 款項\n",
      "\n",
      "其 他 流動 資產\n",
      "\n",
      "流動 資產 合計\n",
      "\n",
      "非 流動 資產\n",
      "\n",
      "透過 其 他 綜合 損益 按 公 多 價值 衡量 之 金 融資 產 - 非 流動\n",
      "按 攤 銷 後 成 本 衡量 之 金 融資 產 - 非 流動\n",
      "\n",
      "392,624\n",
      "2,821,839\n",
      "603,016\n",
      "4,876\n",
      "161,993\n",
      "4,624\n",
      "26,585\n",
      "47,255\n",
      "288\n",
      "4,063,100\n",
      "\n",
      "500\n",
      "42,937,\n",
      "\n",
      "483,825\n",
      "1,370,147\n",
      "744,316\n",
      "5,146\n",
      "207,370\n",
      "397,631\n",
      "79,149\n",
      "46,585\n",
      "39\n",
      "3,334,208\n",
      "\n",
      "500\n",
      "42,817\n",
      "\n"
     ]
    }
   ],
   "source": [
    "img_name = 'testing image2.jpg'\n",
    "img = Image.open(img_name)\n",
    "text = pytesseract.image_to_string(img, lang='chi_tra')\n",
    "print(text)"
   ]
  },
  {
   "cell_type": "code",
   "execution_count": 13,
   "metadata": {},
   "outputs": [
    {
     "name": "stdout",
     "output_type": "stream",
     "text": [
      "2727 王 品 -- 202012\n",
      "\n",
      "Field Name\n",
      "\n",
      "稅 前 淨利 一 CFO\n",
      "\n",
      "折舊 一 CFO\n",
      "\n",
      "攤 提 一 CFO\n",
      "\n",
      "來 自 營運 之 現金 流量\n",
      "\n",
      "新 增 投資 一 CFI\n",
      "\n",
      "出 售 投資 一 CFI\n",
      "\n",
      "購置 不 動產 廠房 設備 ( 含 預付 ) 一 CFT\n",
      "處 分 不 動產 廠房 設備 ( 含 預付 ) 一 CFI\n",
      "投資 活動 之 現金 流量\n",
      "\n",
      "現金 增 ( 減 ) 資 一 CFF\n",
      "支付 現金 股利 一 CFF\n",
      "籌資 活動 之 現金 流量\n",
      "\n",
      "匯率 影響 數\n",
      "\n",
      "本 期 產生 現金 流量\n",
      "\n",
      "期 初 現金 及 約 當 現金\n",
      "\n",
      "期 末 現 金 及 約 當 現金\n",
      "\n"
     ]
    }
   ],
   "source": [
    "img_name = 'testing image3.jpg'\n",
    "img = Image.open(img_name)\n",
    "text = pytesseract.image_to_string(img, lang='chi_tra')\n",
    "print(text)"
   ]
  },
  {
   "cell_type": "code",
   "execution_count": 14,
   "metadata": {},
   "outputs": [
    {
     "name": "stdout",
     "output_type": "stream",
     "text": [
      "會 計 師 核 閱 報告\n",
      "(110) 財 審 報 字 第 21001049 號\n",
      "\n",
      "晶 華 國 際 酒 店 股份 有 限 公 司 。 公 鑒 :\n",
      "\n",
      "前 言\n",
      "\n",
      "晶 華 國 際 酒店 股份 有 限 公司 及 子 公司 (以 下 簡稱 「 晶 華 集 團 」) 民 國 110 年 及 109 年\n",
      "6 月 30 日 之 合併 資產 負債 表 , 民 國 110 年 及 109 年 4 月 1 日 至 6 月 30 日 、 民 國 110 年\n",
      "及 109 年 1 月 1 日 至 6 月 30 日 之 合併 綜合 損益 表 , 暨 民國 110 年 及 109 年 1 月 1 日 至\n",
      "6 月 30 日 合併 權益 變動 表 及 合併 現金 流量 表 , 以 及 合併 財務 報表 附註 (包括 重大 會 計 政\n",
      "策 彙 總 ), 業 經 本 會 計 師 核 閱 竣 事 。 依 證券 發 行 人 財務 報告 編製 準則 及 人 金融 監督 管理 委\n",
      "員 會 認可 之 國 際會 計 準則 第 三 十 四 號 「 期 中 財務 報導 」 編製 允 當 表 達 之 合併 財務 報表 係\n",
      "管理 階層 之 責任 , 本 會 計 師 之 責任 係 依據 核 閱 結果 對 合併 財務 報表 作成 結論 。\n",
      "\n",
      "範圍\n",
      "\n",
      "除 保留 結論 之 基礎 段 所 述 者 外 , 本 會 計 師 係 依照 審計 準則 公報 第 六 十 五 號 「 財 務 報\n",
      "表 之 核 閱 」 執 行 核 閱 工作 。 核 閱 合併 財務 報表 時 所 執行 之 程序 包括 查詢 (主 要 向 負 責 財\n",
      "務 與 會 計 事務 之 人 員 查 詢 )、 分 析 性 程序 及 其 他 核 閱 程序 。 核 閱 工作 之 範圍 明顯 小 於 查\n",
      "核 工 作 之 範圍 , 因 此 本 會 計 師 可 能 無 法 察覺 所 有 可 藉 由 查核 工作 辨認 之 重大 事項 , 故 無\n",
      "法 表 示 查 核 意見 。\n",
      "\n",
      "保留 結論 之 基礎\n",
      "\n",
      "如 合併 財務 報表 附註 四 (三 ) 所 述 , 列 入 上 開 合併 財務 報表 之 部 分 非 重 要 子 公 司 之 同\n",
      "期 間 財 務 報 表 未 經 會 計 師 核 辣 , 其 民國 110 年 及 109 年 6 月 30 日 之 資產 總 額 分 別 為 新\n",
      "台 幣 1, 719, 798 仟 元 及 新 台 幣 2, 058, 971 仟 元 , 分 別 占 合 併 資產 總 額 之 18. 25% 及 18. 79%;\n",
      "\n"
     ]
    }
   ],
   "source": [
    "img_name = 'testing image4.jpg'\n",
    "img = Image.open(img_name)\n",
    "text = pytesseract.image_to_string(img, lang='chi_tra')\n",
    "print(text)"
   ]
  },
  {
   "cell_type": "code",
   "execution_count": 15,
   "metadata": {},
   "outputs": [
    {
     "name": "stdout",
     "output_type": "stream",
     "text": [
      "隘 笙 核 辣 , 未 依 一 般 公 認 審計 準則 查核 )\n",
      "\n",
      "單位 : 新 台 幣 仟 元\n",
      "110 年 6 月 30 日 109 年 12 月 31 日 109 年 6 月 30 日\n",
      "次 產 附註 金 額 %_ 金 額 % 金 額\n",
      "流動 責 產\n",
      "1100 現金 及 約 當 現金 六 (一 ) 3 586,890 6 483.825 4 892,030 8\n",
      "110 透過 損益 按 公 匈 價 值 衡量 之 。 六 (二 ) 及 八\n",
      "金 融資 產 一 流動 669,379 【 1,370,147 12 753,362 7\n",
      "1136 按 攤 銷 後 成 本 衡量 之 金 融資 “六 (四 ) 及 八\n",
      "產 一 流動 304,389 3 744,316 7 222,622 還\n",
      "1150 應 收 票據 淨 額 太 (五 ) 2,.890 蟬 5,146 - 2.123\n",
      "1170 應 收 帳 款 淨 額 太 (五 ) 70.758 1 207,370 2 139,221 1\n",
      "1200 其 他 應 收 款 5,012 蟬 397,631 4 413,792 4\n",
      "130X 存貨 六 (六 ) 18,.758 蟬 79,149 1 69,197 1\n",
      "1410 預付 款項 61.984 1 46,585 1 45,464\n",
      "1460 竺 出 售 非 流動 資產 淨 額 520,559 6 各 - 蟬\n",
      "1470 < 由 39 - 加\n",
      "1 宮 2,240,619 24 3,334,208 31 3,037,811 28\n",
      "1517 透過 其 他 綜合 損益 按 公 匈 價\n",
      "值 衡量 之 金 融資 產 一 非 流動 500 蟬 500 - 500\n",
      "1535 按 攤 銷 後 成 本 衡量 之 金 融資 。 六 (四 ) 及 八\n",
      "產 一 非 流動 和 ,937 蟬 和 9,817 - 41,797\n",
      "\n",
      "1550 採用 權益 法 之 投資 六 (七 ) 1,018,052 1 1,036,749 10 1,074,121 10\n",
      "\n"
     ]
    }
   ],
   "source": [
    "img_name = 'testing image5.jpg'\n",
    "img = Image.open(img_name)\n",
    "text = pytesseract.image_to_string(img, lang='chi_tra')\n",
    "print(text)"
   ]
  },
  {
   "cell_type": "code",
   "execution_count": 16,
   "metadata": {},
   "outputs": [
    {
     "name": "stdout",
     "output_type": "stream",
     "text": [
      "110 年 6 月 30 日 109 年 12 月 31 日 109 年 6 月 30 日\n",
      "音 產 附 計 金 窒 -% 金 品 8 金 字\n",
      "讓 動 實 產\n",
      "1100 現金 及 約 當 現金 六 (一 ) 2\n",
      "1110 透過 攝 益 控 公克 價 值 術 量 之 、 六 (二 ) 及 八\n",
      "金 融資 產 一 流動 669,39 7 1370,147 12 753,32 7\n",
      "1136 接 攏 銷 後 成 本 街 量 之 全 融資 六 (四 ) 及 八\n",
      "產 一 流動 304,389 3 74316 7 722,622 7\n",
      "1150 應 收 森 據 淨 客 六 (五 2890 46 2.123 二\n",
      "1170 應 收 帳 款 淨 額 馮 ( 五 ) 和 8 1 207,30 2 139,24 1\n",
      "1200 其他 應 收 款 5012 397.61 4 413,32 4\n",
      "130X 。 厚 發 大 (六) 18.78 媽 ,19 1 99197 1\n",
      "1410 預付 款項 6198 1 46,s85 1 和 454\n",
      "1460 。 待 出 售 非 流動 資產 淨 額 。 六 (十 三 ) 520,59 6 1 國\n",
      "1470 共 他 流動 資產 - 一 還\n",
      "1 流動 實 產 合計 2.240.6l9 2 3.334.208 一 計 2\n",
      "非 流動 次 產\n",
      "1517 透過 其 他 綜合 損益 接 公 多 價. 六 (\n",
      "值 衡量 之 金 融資 產 一 非 流 動 0 30 30 二\n",
      "1535 接 攏 銷 後 成 本 術 量 之 金融 次 六 (四 ) 及 八\n",
      "產 一 非 流動 和 2997 一 42817 27\n",
      "1550 採用 權益 法 之 投 交 大 (上) 1.018,052 1 1.036,749 10 1.074,121 10\n",
      "1600 不 動產 、 廠 房 及 設備 六 (入)( 十 相)\n",
      "(二 五) 及 八 2 2.492.767。 說 24\n",
      "1755 使用 權 次 產 馮 ( 九 ) 其 3.524,081。 2 導\n",
      "1780 無 形 中 產 六 (十 一 ) > 25423 各\n",
      "1840。 站 延 所 得 稅 資產 - 和 7 -\n",
      "1900 其他 非 流動 次 產 大 (十 二 ) 5 459.043 4 4\n",
      "15 非 流動 商 產 合計 誠 7.620.141 一 99 7.920.761 _ 娘\n",
      "1NNN 南 產 總 計 上 100 5 10.954.349 100 5 10.958,572 _100\n",
      "\n",
      "\n"
     ]
    }
   ],
   "source": [
    "img_name = 'testing image6.jpg'\n",
    "img = Image.open(img_name)\n",
    "text = pytesseract.image_to_string(img, lang='chi_tra')\n",
    "print(text)"
   ]
  },
  {
   "cell_type": "code",
   "execution_count": null,
   "metadata": {},
   "outputs": [],
   "source": []
  }
 ],
 "metadata": {
  "kernelspec": {
   "display_name": "Python 3",
   "language": "python",
   "name": "python3"
  },
  "language_info": {
   "codemirror_mode": {
    "name": "ipython",
    "version": 3
   },
   "file_extension": ".py",
   "mimetype": "text/x-python",
   "name": "python",
   "nbconvert_exporter": "python",
   "pygments_lexer": "ipython3",
   "version": "3.7.3"
  }
 },
 "nbformat": 4,
 "nbformat_minor": 2
}
